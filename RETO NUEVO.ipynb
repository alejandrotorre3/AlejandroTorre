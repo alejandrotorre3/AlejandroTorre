{
 "cells": [
  {
   "cell_type": "markdown",
   "id": "7f101d62-4ad6-46bf-8b7e-166112d10081",
   "metadata": {},
   "source": [
    "Visualizacion de Datos\n",
    "Alejandro Torre A00828064"
   ]
  },
  {
   "cell_type": "code",
   "execution_count": 1,
   "id": "68359a3b-c323-4794-9070-1275f596edc1",
   "metadata": {},
   "outputs": [],
   "source": [
    "## Empece importando las librerias que tengo que utilizar para el desarrollo de mi reto"
   ]
  },
  {
   "cell_type": "code",
   "execution_count": 44,
   "id": "1343b989-655e-4cf8-8257-db56b62960db",
   "metadata": {},
   "outputs": [],
   "source": [
    "import numpy as np\n",
    "import pandas as pd\n",
    "import seaborn as sns\n",
    "import matplotlib.pyplot as plt"
   ]
  },
  {
   "cell_type": "code",
   "execution_count": 3,
   "id": "6402145f-b667-4283-83a9-c16295951135",
   "metadata": {},
   "outputs": [],
   "source": [
    "#Quise confirmar que mi base de datos que importe estaba en el mismo path que estaba trabajando."
   ]
  },
  {
   "cell_type": "code",
   "execution_count": 4,
   "id": "e2eeb9d2-e1d9-471d-8777-269332aabc6f",
   "metadata": {},
   "outputs": [
    {
     "name": "stdout",
     "output_type": "stream",
     "text": [
      " 07_02_pie_box_scatter_bubble.ipynb   requirements.txt\n",
      " Canada.xlsx                         'Reto Entregable 1.ipynb'\n",
      " \u001b[0m\u001b[01;34mdatasets\u001b[0m/                           'Reto Entregable 1.ipynb copy'\n",
      " heart.csv                           'RETO NUEVO.ipynb'\n",
      " movie_metadata.csv                   runtime.txt\n",
      " nhanes_2015_2016.csv                 \u001b[01;34msession_01\u001b[0m/\n",
      " README.md                            welcome_binder.ipynb\n",
      " requierementsEXL\n"
     ]
    }
   ],
   "source": [
    "%ls"
   ]
  },
  {
   "cell_type": "code",
   "execution_count": 5,
   "id": "b97e7f1e-2428-44c8-8f7d-bc0da4954d86",
   "metadata": {},
   "outputs": [],
   "source": [
    "#Para poder abrir la base de datos tengo que utilizar panda para abrirlo dentro de un dataframe"
   ]
  },
  {
   "cell_type": "code",
   "execution_count": 6,
   "id": "bfd76627-9cdd-445f-bb61-534dabdd058a",
   "metadata": {},
   "outputs": [],
   "source": [
    "df = pd.read_csv(\"heart.csv\")"
   ]
  },
  {
   "cell_type": "code",
   "execution_count": 7,
   "id": "21c3ee1f-59ff-4964-85cf-e31f53420cd0",
   "metadata": {},
   "outputs": [],
   "source": [
    "#Ya al asignar que tu dataframe sea tu base de datos abri el dataframe que me muestra los datos"
   ]
  },
  {
   "cell_type": "code",
   "execution_count": 8,
   "id": "7648197e-a93d-49d8-8127-1781349ea51b",
   "metadata": {},
   "outputs": [
    {
     "data": {
      "text/html": [
       "<div>\n",
       "<style scoped>\n",
       "    .dataframe tbody tr th:only-of-type {\n",
       "        vertical-align: middle;\n",
       "    }\n",
       "\n",
       "    .dataframe tbody tr th {\n",
       "        vertical-align: top;\n",
       "    }\n",
       "\n",
       "    .dataframe thead th {\n",
       "        text-align: right;\n",
       "    }\n",
       "</style>\n",
       "<table border=\"1\" class=\"dataframe\">\n",
       "  <thead>\n",
       "    <tr style=\"text-align: right;\">\n",
       "      <th></th>\n",
       "      <th>Age</th>\n",
       "      <th>Sex</th>\n",
       "      <th>ChestPainType</th>\n",
       "      <th>RestingBP</th>\n",
       "      <th>Cholesterol</th>\n",
       "      <th>FastingBS</th>\n",
       "      <th>RestingECG</th>\n",
       "      <th>MaxHR</th>\n",
       "      <th>ExerciseAngina</th>\n",
       "      <th>Oldpeak</th>\n",
       "      <th>ST_Slope</th>\n",
       "      <th>HeartDisease</th>\n",
       "    </tr>\n",
       "  </thead>\n",
       "  <tbody>\n",
       "    <tr>\n",
       "      <th>0</th>\n",
       "      <td>40</td>\n",
       "      <td>M</td>\n",
       "      <td>ATA</td>\n",
       "      <td>140</td>\n",
       "      <td>289</td>\n",
       "      <td>0</td>\n",
       "      <td>Normal</td>\n",
       "      <td>172</td>\n",
       "      <td>N</td>\n",
       "      <td>0.0</td>\n",
       "      <td>Up</td>\n",
       "      <td>0</td>\n",
       "    </tr>\n",
       "    <tr>\n",
       "      <th>1</th>\n",
       "      <td>49</td>\n",
       "      <td>F</td>\n",
       "      <td>NAP</td>\n",
       "      <td>160</td>\n",
       "      <td>180</td>\n",
       "      <td>0</td>\n",
       "      <td>Normal</td>\n",
       "      <td>156</td>\n",
       "      <td>N</td>\n",
       "      <td>1.0</td>\n",
       "      <td>Flat</td>\n",
       "      <td>1</td>\n",
       "    </tr>\n",
       "    <tr>\n",
       "      <th>2</th>\n",
       "      <td>37</td>\n",
       "      <td>M</td>\n",
       "      <td>ATA</td>\n",
       "      <td>130</td>\n",
       "      <td>283</td>\n",
       "      <td>0</td>\n",
       "      <td>ST</td>\n",
       "      <td>98</td>\n",
       "      <td>N</td>\n",
       "      <td>0.0</td>\n",
       "      <td>Up</td>\n",
       "      <td>0</td>\n",
       "    </tr>\n",
       "    <tr>\n",
       "      <th>3</th>\n",
       "      <td>48</td>\n",
       "      <td>F</td>\n",
       "      <td>ASY</td>\n",
       "      <td>138</td>\n",
       "      <td>214</td>\n",
       "      <td>0</td>\n",
       "      <td>Normal</td>\n",
       "      <td>108</td>\n",
       "      <td>Y</td>\n",
       "      <td>1.5</td>\n",
       "      <td>Flat</td>\n",
       "      <td>1</td>\n",
       "    </tr>\n",
       "    <tr>\n",
       "      <th>4</th>\n",
       "      <td>54</td>\n",
       "      <td>M</td>\n",
       "      <td>NAP</td>\n",
       "      <td>150</td>\n",
       "      <td>195</td>\n",
       "      <td>0</td>\n",
       "      <td>Normal</td>\n",
       "      <td>122</td>\n",
       "      <td>N</td>\n",
       "      <td>0.0</td>\n",
       "      <td>Up</td>\n",
       "      <td>0</td>\n",
       "    </tr>\n",
       "  </tbody>\n",
       "</table>\n",
       "</div>"
      ],
      "text/plain": [
       "   Age Sex ChestPainType  RestingBP  Cholesterol  FastingBS RestingECG  MaxHR  \\\n",
       "0   40   M           ATA        140          289          0     Normal    172   \n",
       "1   49   F           NAP        160          180          0     Normal    156   \n",
       "2   37   M           ATA        130          283          0         ST     98   \n",
       "3   48   F           ASY        138          214          0     Normal    108   \n",
       "4   54   M           NAP        150          195          0     Normal    122   \n",
       "\n",
       "  ExerciseAngina  Oldpeak ST_Slope  HeartDisease  \n",
       "0              N      0.0       Up             0  \n",
       "1              N      1.0     Flat             1  \n",
       "2              N      0.0       Up             0  \n",
       "3              Y      1.5     Flat             1  \n",
       "4              N      0.0       Up             0  "
      ]
     },
     "execution_count": 8,
     "metadata": {},
     "output_type": "execute_result"
    }
   ],
   "source": [
    "df.head()"
   ]
  },
  {
   "cell_type": "code",
   "execution_count": 9,
   "id": "0da7511f-a6e8-4725-9050-0cdf62ecfc84",
   "metadata": {},
   "outputs": [],
   "source": [
    "#Note que en mi dataframe habian columnas que no influyen el analisis que voy a realizar por ende lo borre"
   ]
  },
  {
   "cell_type": "code",
   "execution_count": 10,
   "id": "89115189-780a-4871-b7bd-46584f8f9e5e",
   "metadata": {},
   "outputs": [
    {
     "data": {
      "text/html": [
       "<div>\n",
       "<style scoped>\n",
       "    .dataframe tbody tr th:only-of-type {\n",
       "        vertical-align: middle;\n",
       "    }\n",
       "\n",
       "    .dataframe tbody tr th {\n",
       "        vertical-align: top;\n",
       "    }\n",
       "\n",
       "    .dataframe thead th {\n",
       "        text-align: right;\n",
       "    }\n",
       "</style>\n",
       "<table border=\"1\" class=\"dataframe\">\n",
       "  <thead>\n",
       "    <tr style=\"text-align: right;\">\n",
       "      <th></th>\n",
       "      <th>Age</th>\n",
       "      <th>Sex</th>\n",
       "      <th>ChestPainType</th>\n",
       "      <th>RestingBP</th>\n",
       "      <th>Cholesterol</th>\n",
       "      <th>RestingECG</th>\n",
       "      <th>MaxHR</th>\n",
       "      <th>ExerciseAngina</th>\n",
       "      <th>Oldpeak</th>\n",
       "      <th>ST_Slope</th>\n",
       "      <th>HeartDisease</th>\n",
       "    </tr>\n",
       "  </thead>\n",
       "  <tbody>\n",
       "    <tr>\n",
       "      <th>0</th>\n",
       "      <td>40</td>\n",
       "      <td>M</td>\n",
       "      <td>ATA</td>\n",
       "      <td>140</td>\n",
       "      <td>289</td>\n",
       "      <td>Normal</td>\n",
       "      <td>172</td>\n",
       "      <td>N</td>\n",
       "      <td>0.0</td>\n",
       "      <td>Up</td>\n",
       "      <td>0</td>\n",
       "    </tr>\n",
       "    <tr>\n",
       "      <th>1</th>\n",
       "      <td>49</td>\n",
       "      <td>F</td>\n",
       "      <td>NAP</td>\n",
       "      <td>160</td>\n",
       "      <td>180</td>\n",
       "      <td>Normal</td>\n",
       "      <td>156</td>\n",
       "      <td>N</td>\n",
       "      <td>1.0</td>\n",
       "      <td>Flat</td>\n",
       "      <td>1</td>\n",
       "    </tr>\n",
       "    <tr>\n",
       "      <th>2</th>\n",
       "      <td>37</td>\n",
       "      <td>M</td>\n",
       "      <td>ATA</td>\n",
       "      <td>130</td>\n",
       "      <td>283</td>\n",
       "      <td>ST</td>\n",
       "      <td>98</td>\n",
       "      <td>N</td>\n",
       "      <td>0.0</td>\n",
       "      <td>Up</td>\n",
       "      <td>0</td>\n",
       "    </tr>\n",
       "    <tr>\n",
       "      <th>3</th>\n",
       "      <td>48</td>\n",
       "      <td>F</td>\n",
       "      <td>ASY</td>\n",
       "      <td>138</td>\n",
       "      <td>214</td>\n",
       "      <td>Normal</td>\n",
       "      <td>108</td>\n",
       "      <td>Y</td>\n",
       "      <td>1.5</td>\n",
       "      <td>Flat</td>\n",
       "      <td>1</td>\n",
       "    </tr>\n",
       "    <tr>\n",
       "      <th>4</th>\n",
       "      <td>54</td>\n",
       "      <td>M</td>\n",
       "      <td>NAP</td>\n",
       "      <td>150</td>\n",
       "      <td>195</td>\n",
       "      <td>Normal</td>\n",
       "      <td>122</td>\n",
       "      <td>N</td>\n",
       "      <td>0.0</td>\n",
       "      <td>Up</td>\n",
       "      <td>0</td>\n",
       "    </tr>\n",
       "  </tbody>\n",
       "</table>\n",
       "</div>"
      ],
      "text/plain": [
       "   Age Sex ChestPainType  RestingBP  Cholesterol RestingECG  MaxHR  \\\n",
       "0   40   M           ATA        140          289     Normal    172   \n",
       "1   49   F           NAP        160          180     Normal    156   \n",
       "2   37   M           ATA        130          283         ST     98   \n",
       "3   48   F           ASY        138          214     Normal    108   \n",
       "4   54   M           NAP        150          195     Normal    122   \n",
       "\n",
       "  ExerciseAngina  Oldpeak ST_Slope  HeartDisease  \n",
       "0              N      0.0       Up             0  \n",
       "1              N      1.0     Flat             1  \n",
       "2              N      0.0       Up             0  \n",
       "3              Y      1.5     Flat             1  \n",
       "4              N      0.0       Up             0  "
      ]
     },
     "execution_count": 10,
     "metadata": {},
     "output_type": "execute_result"
    }
   ],
   "source": [
    "df = pd.read_csv(\"heart.csv\")\n",
    "\n",
    "df.drop(\"FastingBS\",\n",
    "        axis=1,inplace=True,)\n",
    "\n",
    "df.head()"
   ]
  },
  {
   "cell_type": "markdown",
   "id": "06196a0a-1e15-4d21-aa61-7270486080b7",
   "metadata": {},
   "source": [
    "La variable de interes de mi base de datos es \"HearDisease\" lo cual el valor numerico de 1 o 0 indica si padecen de una enfermedad del corazon. Esta base de datos agarro a 918 personas buscando identificar la causa de un ataque o una enfermedad relacionada con el corazon. Mi proposito con esta base de datos es descubrir la importancia de las variables \"Cholesterol\", \"Sex\", \"Age\", \"Resting BP\" y \"ExerciseAngina\" y como cada una impacta \"HeartDisease\"."
   ]
  },
  {
   "cell_type": "code",
   "execution_count": 11,
   "id": "f80d1fc7-5d06-43f4-bfeb-2ff300b6e4d7",
   "metadata": {},
   "outputs": [
    {
     "name": "stdout",
     "output_type": "stream",
     "text": [
      "<class 'pandas.core.frame.DataFrame'>\n",
      "RangeIndex: 918 entries, 0 to 917\n",
      "Data columns (total 11 columns):\n",
      " #   Column          Non-Null Count  Dtype  \n",
      "---  ------          --------------  -----  \n",
      " 0   Age             918 non-null    int64  \n",
      " 1   Sex             918 non-null    object \n",
      " 2   ChestPainType   918 non-null    object \n",
      " 3   RestingBP       918 non-null    int64  \n",
      " 4   Cholesterol     918 non-null    int64  \n",
      " 5   RestingECG      918 non-null    object \n",
      " 6   MaxHR           918 non-null    int64  \n",
      " 7   ExerciseAngina  918 non-null    object \n",
      " 8   Oldpeak         918 non-null    float64\n",
      " 9   ST_Slope        918 non-null    object \n",
      " 10  HeartDisease    918 non-null    int64  \n",
      "dtypes: float64(1), int64(5), object(5)\n",
      "memory usage: 79.0+ KB\n"
     ]
    }
   ],
   "source": [
    "df.info()"
   ]
  },
  {
   "cell_type": "markdown",
   "id": "080ae55c-00e7-4530-a832-9d607d0ebabe",
   "metadata": {},
   "source": [
    "Esta funcion nos permite identificar el tipo de dato de cada columna presente en la base de datos. Esto es importante considerando que voy a buscar una relacion y generar graficas de esta base de datos. El proposito es identificar si la variable es numerica y de que tipo."
   ]
  },
  {
   "cell_type": "code",
   "execution_count": 12,
   "id": "d2bc0909-3d65-489b-a988-23a7569ed39e",
   "metadata": {},
   "outputs": [
    {
     "data": {
      "text/html": [
       "<div>\n",
       "<style scoped>\n",
       "    .dataframe tbody tr th:only-of-type {\n",
       "        vertical-align: middle;\n",
       "    }\n",
       "\n",
       "    .dataframe tbody tr th {\n",
       "        vertical-align: top;\n",
       "    }\n",
       "\n",
       "    .dataframe thead th {\n",
       "        text-align: right;\n",
       "    }\n",
       "</style>\n",
       "<table border=\"1\" class=\"dataframe\">\n",
       "  <thead>\n",
       "    <tr style=\"text-align: right;\">\n",
       "      <th></th>\n",
       "      <th>Age</th>\n",
       "      <th>RestingBP</th>\n",
       "      <th>Cholesterol</th>\n",
       "      <th>MaxHR</th>\n",
       "      <th>Oldpeak</th>\n",
       "      <th>HeartDisease</th>\n",
       "    </tr>\n",
       "  </thead>\n",
       "  <tbody>\n",
       "    <tr>\n",
       "      <th>count</th>\n",
       "      <td>918.000000</td>\n",
       "      <td>918.000000</td>\n",
       "      <td>918.000000</td>\n",
       "      <td>918.000000</td>\n",
       "      <td>918.000000</td>\n",
       "      <td>918.000000</td>\n",
       "    </tr>\n",
       "    <tr>\n",
       "      <th>mean</th>\n",
       "      <td>53.510893</td>\n",
       "      <td>132.396514</td>\n",
       "      <td>198.799564</td>\n",
       "      <td>136.809368</td>\n",
       "      <td>0.887364</td>\n",
       "      <td>0.553377</td>\n",
       "    </tr>\n",
       "    <tr>\n",
       "      <th>std</th>\n",
       "      <td>9.432617</td>\n",
       "      <td>18.514154</td>\n",
       "      <td>109.384145</td>\n",
       "      <td>25.460334</td>\n",
       "      <td>1.066570</td>\n",
       "      <td>0.497414</td>\n",
       "    </tr>\n",
       "    <tr>\n",
       "      <th>min</th>\n",
       "      <td>28.000000</td>\n",
       "      <td>0.000000</td>\n",
       "      <td>0.000000</td>\n",
       "      <td>60.000000</td>\n",
       "      <td>-2.600000</td>\n",
       "      <td>0.000000</td>\n",
       "    </tr>\n",
       "    <tr>\n",
       "      <th>25%</th>\n",
       "      <td>47.000000</td>\n",
       "      <td>120.000000</td>\n",
       "      <td>173.250000</td>\n",
       "      <td>120.000000</td>\n",
       "      <td>0.000000</td>\n",
       "      <td>0.000000</td>\n",
       "    </tr>\n",
       "    <tr>\n",
       "      <th>50%</th>\n",
       "      <td>54.000000</td>\n",
       "      <td>130.000000</td>\n",
       "      <td>223.000000</td>\n",
       "      <td>138.000000</td>\n",
       "      <td>0.600000</td>\n",
       "      <td>1.000000</td>\n",
       "    </tr>\n",
       "    <tr>\n",
       "      <th>75%</th>\n",
       "      <td>60.000000</td>\n",
       "      <td>140.000000</td>\n",
       "      <td>267.000000</td>\n",
       "      <td>156.000000</td>\n",
       "      <td>1.500000</td>\n",
       "      <td>1.000000</td>\n",
       "    </tr>\n",
       "    <tr>\n",
       "      <th>max</th>\n",
       "      <td>77.000000</td>\n",
       "      <td>200.000000</td>\n",
       "      <td>603.000000</td>\n",
       "      <td>202.000000</td>\n",
       "      <td>6.200000</td>\n",
       "      <td>1.000000</td>\n",
       "    </tr>\n",
       "  </tbody>\n",
       "</table>\n",
       "</div>"
      ],
      "text/plain": [
       "              Age   RestingBP  Cholesterol       MaxHR     Oldpeak  \\\n",
       "count  918.000000  918.000000   918.000000  918.000000  918.000000   \n",
       "mean    53.510893  132.396514   198.799564  136.809368    0.887364   \n",
       "std      9.432617   18.514154   109.384145   25.460334    1.066570   \n",
       "min     28.000000    0.000000     0.000000   60.000000   -2.600000   \n",
       "25%     47.000000  120.000000   173.250000  120.000000    0.000000   \n",
       "50%     54.000000  130.000000   223.000000  138.000000    0.600000   \n",
       "75%     60.000000  140.000000   267.000000  156.000000    1.500000   \n",
       "max     77.000000  200.000000   603.000000  202.000000    6.200000   \n",
       "\n",
       "       HeartDisease  \n",
       "count    918.000000  \n",
       "mean       0.553377  \n",
       "std        0.497414  \n",
       "min        0.000000  \n",
       "25%        0.000000  \n",
       "50%        1.000000  \n",
       "75%        1.000000  \n",
       "max        1.000000  "
      ]
     },
     "execution_count": 12,
     "metadata": {},
     "output_type": "execute_result"
    }
   ],
   "source": [
    "df.describe()"
   ]
  },
  {
   "cell_type": "markdown",
   "id": "0dd17f25-3537-469a-9b7d-2ff3e26f3dbf",
   "metadata": {},
   "source": [
    "Esta funcion me describe la media, la desviacion estandar, el valor minimo y maximo entre otras cosas. Me permite ubicar mejor como se comportan los datos que voy a estar utilizando y que variables voy a poder utilizar.  "
   ]
  },
  {
   "cell_type": "code",
   "execution_count": 31,
   "id": "a969ef6b-12b5-477f-9767-58014f47f5f7",
   "metadata": {},
   "outputs": [
    {
     "data": {
      "text/plain": [
       "Text(0.5, 1.0, 'Edad')"
      ]
     },
     "execution_count": 31,
     "metadata": {},
     "output_type": "execute_result"
    },
    {
     "data": {
      "image/png": "[encoded data removed]",
      "text/plain": [
       "<Figure size 432x288 with 1 Axes>"
      ]
     },
     "metadata": {
      "needs_background": "light"
     },
     "output_type": "display_data"
    }
   ],
   "source": [
    "sns.distplot(df.Age)\n",
    "plt.title('Edad')"
   ]
  },
  {
   "cell_type": "markdown",
   "id": "ca3186c5-0d9d-45f4-ba3a-e54f4ba47b77",
   "metadata": {},
   "source": [
    "Utilize un histograma para observar las edades del grupo de personas que tomaron en cuenta para esta base de datos ya que definitivamente la edad juega un rol en las enfermedades del corazon. Es mas comun que a una edad mas grande padescan de esta enfermedad a que una edad temprana. "
   ]
  },
  {
   "cell_type": "code",
   "execution_count": 32,
   "id": "87f39933-be1a-4f87-9e7e-a677c2154902",
   "metadata": {},
   "outputs": [
    {
     "data": {
      "text/plain": [
       "Text(0.5, 1.0, 'Cholesterol')"
      ]
     },
     "execution_count": 32,
     "metadata": {},
     "output_type": "execute_result"
    },
    {
     "data": {
      "image/png": "[encoded data removed]",
      "text/plain": [
       "<Figure size 432x288 with 1 Axes>"
      ]
     },
     "metadata": {
      "needs_background": "light"
     },
     "output_type": "display_data"
    }
   ],
   "source": [
    "sns.distplot(df.Cholesterol)\n",
    "plt.title('Cholesterol')"
   ]
  },
  {
   "cell_type": "code",
   "execution_count": 21,
   "id": "151867a8-cca7-463d-a18d-df7c90e78f5b",
   "metadata": {},
   "outputs": [
    {
     "data": {
      "text/plain": [
       "<matplotlib.axes._subplots.AxesSubplot at 0x7f1db15ad220>"
      ]
     },
     "execution_count": 21,
     "metadata": {},
     "output_type": "execute_result"
    },
    {
     "data": {
      "image/png": "[encoded data removed]",
      "text/plain": [
       "<Figure size 432x288 with 1 Axes>"
      ]
     },
     "metadata": {
      "needs_background": "light"
     },
     "output_type": "display_data"
    }
   ],
   "source": [
    "sns.lineplot(x=\"MaxHR\", y=\"Cholesterol\", data=df)"
   ]
  },
  {
   "cell_type": "markdown",
   "id": "bb14486e-13b0-49b9-9c63-47cc1ff0d851",
   "metadata": {},
   "source": [
    "En esta grafica logro observar la relacion entre la maxima velocidad de los latidos del corazon contra el cholesterol de esa persona indicada. Observo una tendencia creciente en esta grafica ya que esta comprobado que una persona con latidos acelerados se encuentra con mas riesgo a padecer de una enfermedad del corazon y una persona con mas riesgo de una enferemedad esta relacionado con un alto nivel de cholesterol. Identifico uno que otros datos que podrian ser identificados como atipicos pero en esencia la grafica esta correcta. "
   ]
  },
  {
   "cell_type": "code",
   "execution_count": 33,
   "id": "292aad97-5dd8-4e29-9d80-33a46afa425f",
   "metadata": {},
   "outputs": [
    {
     "data": {
      "image/png": "[encoded data removed]",
      "text/plain": [
       "<Figure size 432x288 with 1 Axes>"
      ]
     },
     "metadata": {
      "needs_background": "light"
     },
     "output_type": "display_data"
    }
   ],
   "source": [
    "df.plot(kind=\"scatter\",\n",
    "x=\"Age\",\n",
    "y=\"MaxHR\")\n",
    "plt.title('Age vs Max Heart Rate') \n",
    "plt.show()"
   ]
  },
  {
   "cell_type": "markdown",
   "id": "fd4a8ce7-6944-4c19-b022-85188f8de316",
   "metadata": {},
   "source": [
    "Usando una grafica de dispersion queria comparar la edad de las persona"
   ]
  },
  {
   "cell_type": "markdown",
   "id": "bb980567-0208-4e16-bdb3-b826412ea2d8",
   "metadata": {},
   "source": [
    "REGRESION"
   ]
  },
  {
   "cell_type": "code",
   "execution_count": 48,
   "id": "a0c8dd11-f134-487a-997f-9981ec6650b1",
   "metadata": {},
   "outputs": [
    {
     "name": "stdout",
     "output_type": "stream",
     "text": [
      "Collecting statsmodels\n",
      "  Downloading statsmodels-0.13.0-cp38-cp38-manylinux_2_17_x86_64.manylinux2014_x86_64.whl (9.9 MB)\n",
      "\u001b[K     |████████████████████████████████| 9.9 MB 4.8 MB/s eta 0:00:01\n",
      "\u001b[?25hRequirement already satisfied: scipy>=1.3 in /srv/conda/envs/notebook/lib/python3.8/site-packages (from statsmodels) (1.4.1)\n",
      "Requirement already satisfied: pandas>=0.25 in /srv/conda/envs/notebook/lib/python3.8/site-packages (from statsmodels) (1.0.4)\n",
      "Requirement already satisfied: numpy>=1.17 in /srv/conda/envs/notebook/lib/python3.8/site-packages (from statsmodels) (1.18.5)\n",
      "Collecting patsy>=0.5.2\n",
      "  Downloading patsy-0.5.2-py2.py3-none-any.whl (233 kB)\n",
      "\u001b[K     |████████████████████████████████| 233 kB 81.4 MB/s eta 0:00:01\n",
      "\u001b[?25hRequirement already satisfied: pytz>=2017.2 in /srv/conda/envs/notebook/lib/python3.8/site-packages (from pandas>=0.25->statsmodels) (2020.1)\n",
      "Requirement already satisfied: python-dateutil>=2.6.1 in /srv/conda/envs/notebook/lib/python3.8/site-packages (from pandas>=0.25->statsmodels) (2.8.1)\n",
      "Requirement already satisfied: six in /srv/conda/envs/notebook/lib/python3.8/site-packages (from patsy>=0.5.2->statsmodels) (1.15.0)\n",
      "Installing collected packages: patsy, statsmodels\n",
      "Successfully installed patsy-0.5.2 statsmodels-0.13.0\n",
      "Note: you may need to restart the kernel to use updated packages.\n"
     ]
    }
   ],
   "source": [
    "pip install statsmodels"
   ]
  },
  {
   "cell_type": "code",
   "execution_count": 49,
   "id": "c7223b4f-64df-48ef-8654-8fe115ee8ad7",
   "metadata": {},
   "outputs": [
    {
     "data": {
      "text/html": [
       "<table class=\"simpletable\">\n",
       "<caption>OLS Regression Results</caption>\n",
       "<tr>\n",
       "  <th>Dep. Variable:</th>      <td>HeartDisease</td>   <th>  R-squared:         </th> <td>   0.080</td>\n",
       "</tr>\n",
       "<tr>\n",
       "  <th>Model:</th>                   <td>OLS</td>       <th>  Adj. R-squared:    </th> <td>   0.079</td>\n",
       "</tr>\n",
       "<tr>\n",
       "  <th>Method:</th>             <td>Least Squares</td>  <th>  F-statistic:       </th> <td>   79.16</td>\n",
       "</tr>\n",
       "<tr>\n",
       "  <th>Date:</th>             <td>Wed, 20 Oct 2021</td> <th>  Prob (F-statistic):</th> <td>3.01e-18</td>\n",
       "</tr>\n",
       "<tr>\n",
       "  <th>Time:</th>                 <td>15:47:39</td>     <th>  Log-Likelihood:    </th> <td> -622.97</td>\n",
       "</tr>\n",
       "<tr>\n",
       "  <th>No. Observations:</th>      <td>   918</td>      <th>  AIC:               </th> <td>   1250.</td>\n",
       "</tr>\n",
       "<tr>\n",
       "  <th>Df Residuals:</th>          <td>   916</td>      <th>  BIC:               </th> <td>   1260.</td>\n",
       "</tr>\n",
       "<tr>\n",
       "  <th>Df Model:</th>              <td>     1</td>      <th>                     </th>     <td> </td>   \n",
       "</tr>\n",
       "<tr>\n",
       "  <th>Covariance Type:</th>      <td>nonrobust</td>    <th>                     </th>     <td> </td>   \n",
       "</tr>\n",
       "</table>\n",
       "<table class=\"simpletable\">\n",
       "<tr>\n",
       "      <td></td>         <th>coef</th>     <th>std err</th>      <th>t</th>      <th>P>|t|</th>  <th>[0.025</th>    <th>0.975]</th>  \n",
       "</tr>\n",
       "<tr>\n",
       "  <th>Intercept</th> <td>   -0.2425</td> <td>    0.091</td> <td>   -2.670</td> <td> 0.008</td> <td>   -0.421</td> <td>   -0.064</td>\n",
       "</tr>\n",
       "<tr>\n",
       "  <th>Age</th>       <td>    0.0149</td> <td>    0.002</td> <td>    8.897</td> <td> 0.000</td> <td>    0.012</td> <td>    0.018</td>\n",
       "</tr>\n",
       "</table>\n",
       "<table class=\"simpletable\">\n",
       "<tr>\n",
       "  <th>Omnibus:</th>       <td>4955.631</td> <th>  Durbin-Watson:     </th> <td>   1.804</td>\n",
       "</tr>\n",
       "<tr>\n",
       "  <th>Prob(Omnibus):</th>  <td> 0.000</td>  <th>  Jarque-Bera (JB):  </th> <td> 108.130</td>\n",
       "</tr>\n",
       "<tr>\n",
       "  <th>Skew:</th>           <td>-0.204</td>  <th>  Prob(JB):          </th> <td>3.31e-24</td>\n",
       "</tr>\n",
       "<tr>\n",
       "  <th>Kurtosis:</th>       <td> 1.369</td>  <th>  Cond. No.          </th> <td>    313.</td>\n",
       "</tr>\n",
       "</table><br/><br/>Notes:<br/>[1] Standard Errors assume that the covariance matrix of the errors is correctly specified."
      ],
      "text/plain": [
       "<class 'statsmodels.iolib.summary.Summary'>\n",
       "\"\"\"\n",
       "                            OLS Regression Results                            \n",
       "==============================================================================\n",
       "Dep. Variable:           HeartDisease   R-squared:                       0.080\n",
       "Model:                            OLS   Adj. R-squared:                  0.079\n",
       "Method:                 Least Squares   F-statistic:                     79.16\n",
       "Date:                Wed, 20 Oct 2021   Prob (F-statistic):           3.01e-18\n",
       "Time:                        15:47:39   Log-Likelihood:                -622.97\n",
       "No. Observations:                 918   AIC:                             1250.\n",
       "Df Residuals:                     916   BIC:                             1260.\n",
       "Df Model:                           1                                         \n",
       "Covariance Type:            nonrobust                                         \n",
       "==============================================================================\n",
       "                 coef    std err          t      P>|t|      [0.025      0.975]\n",
       "------------------------------------------------------------------------------\n",
       "Intercept     -0.2425      0.091     -2.670      0.008      -0.421      -0.064\n",
       "Age            0.0149      0.002      8.897      0.000       0.012       0.018\n",
       "==============================================================================\n",
       "Omnibus:                     4955.631   Durbin-Watson:                   1.804\n",
       "Prob(Omnibus):                  0.000   Jarque-Bera (JB):              108.130\n",
       "Skew:                          -0.204   Prob(JB):                     3.31e-24\n",
       "Kurtosis:                       1.369   Cond. No.                         313.\n",
       "==============================================================================\n",
       "\n",
       "Notes:\n",
       "[1] Standard Errors assume that the covariance matrix of the errors is correctly specified.\n",
       "\"\"\""
      ]
     },
     "execution_count": 49,
     "metadata": {},
     "output_type": "execute_result"
    }
   ],
   "source": [
    "import statsmodels.api as sm\n",
    "model = sm.OLS.from_formula('HeartDisease~Age',\n",
    "                            data=df)\n",
    "result = model.fit() \n",
    "result.summary()"
   ]
  },
  {
   "cell_type": "code",
   "execution_count": null,
   "id": "eeaa16f4-4191-4e8e-a181-27b6a52ef61d",
   "metadata": {},
   "outputs": [],
   "source": []
  }
 ],
 "metadata": {
  "kernelspec": {
   "display_name": "Python 3 (ipykernel)",
   "language": "python",
   "name": "python3"
  },
  "language_info": {
   "codemirror_mode": {
    "name": "ipython",
    "version": 3
   },
   "file_extension": ".py",
   "mimetype": "text/x-python",
   "name": "python",
   "nbconvert_exporter": "python",
   "pygments_lexer": "ipython3",
   "version": "3.8.12"
  }
 },
 "nbformat": 4,
 "nbformat_minor": 5
}
